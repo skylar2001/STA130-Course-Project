{
 "cells": [
  {
   "cell_type": "markdown",
   "id": "af8c1d62",
   "metadata": {},
   "source": [
    "What is the predictive relationship between emotional and social loneliness and levels of depression or anxiety? What role do age and gender have?"
   ]
  },
  {
   "cell_type": "markdown",
   "id": "02074589",
   "metadata": {},
   "source": [
    "Variables that I will explore:\n",
    "\n",
    "'LONELY_dejong_emotional_loneliness_sub_scale_score' and 'LONELY_dejong_social_loneliness_sub_scale_score':\n",
    "\n",
    "(2021_cross and 2022_cohort)\n",
    "LONELY_dejong_emotional_social_loneliness_scale_emptiness\n",
    "LONELY_dejong_emotional_social_loneliness_scale_rely\n",
    "LONELY_dejong_emotional_social_loneliness_scale_trust\n",
    "LONELY_dejong_emotional_social_loneliness_scale_close\n",
    "LONELY_dejong_emotional_social_loneliness_scale_miss\n",
    "LONELY_dejong_emotional_social_loneliness_scale_rejected\n",
    "\n",
    "'WELLNESS_gad_score':\n",
    "(2021_cross and 2022_cohort)\n",
    "WELLNESS_gad_anxious\n",
    "WELLNESS_gad_worry\n",
    "\n",
    "'WELLNESS_phq_score':\n",
    "(2021_cross and 2022_cohort)\n",
    "WELLNESS_phq_little_interest\n",
    "WELLNESS_phq_feeling_down\n",
    "\n",
    "DEMO_gender\n",
    "\n",
    "DEMO_age"
   ]
  },
  {
   "cell_type": "markdown",
   "id": "937c0bea",
   "metadata": {},
   "source": [
    "I plan to do the following the following analysis for the project: Hypothesis testing, confidence intervals, and simple linear regression."
   ]
  },
  {
   "cell_type": "markdown",
   "id": "6b55ac0a",
   "metadata": {},
   "source": [
    "A possible result my analysis may produce is that the more emotionally and socially lonely an individual is, the more likely it is for them to be depressed and/or anxious. Different age group and genders may impact to what degree emotional and social loneliness affects their mental health. The findings of this analysis is relevant for the course project, because it can highlight the negative impact of loneliness to one's health and well being."
   ]
  }
 ],
 "metadata": {
  "kernelspec": {
   "display_name": "Python 3 (ipykernel)",
   "language": "python",
   "name": "python3"
  },
  "language_info": {
   "codemirror_mode": {
    "name": "ipython",
    "version": 3
   },
   "file_extension": ".py",
   "mimetype": "text/x-python",
   "name": "python",
   "nbconvert_exporter": "python",
   "pygments_lexer": "ipython3",
   "version": "3.11.6"
  }
 },
 "nbformat": 4,
 "nbformat_minor": 5
}
